{
 "cells": [
  {
   "cell_type": "code",
   "execution_count": 1,
   "metadata": {},
   "outputs": [],
   "source": [
    "import pandas as pd\n",
    "import numpy as np\n",
    "import datetime\n",
    "import matplotlib.pyplot as plt"
   ]
  },
  {
   "cell_type": "code",
   "execution_count": 9,
   "metadata": {},
   "outputs": [],
   "source": [
    "df=pd.read_csv(\"IBM.csv\")"
   ]
  },
  {
   "cell_type": "code",
   "execution_count": 10,
   "metadata": {},
   "outputs": [
    {
     "data": {
      "text/html": [
       "<div>\n",
       "<style scoped>\n",
       "    .dataframe tbody tr th:only-of-type {\n",
       "        vertical-align: middle;\n",
       "    }\n",
       "\n",
       "    .dataframe tbody tr th {\n",
       "        vertical-align: top;\n",
       "    }\n",
       "\n",
       "    .dataframe thead th {\n",
       "        text-align: right;\n",
       "    }\n",
       "</style>\n",
       "<table border=\"1\" class=\"dataframe\">\n",
       "  <thead>\n",
       "    <tr style=\"text-align: right;\">\n",
       "      <th></th>\n",
       "      <th>Date</th>\n",
       "      <th>Open</th>\n",
       "      <th>High</th>\n",
       "      <th>Low</th>\n",
       "      <th>Close</th>\n",
       "      <th>Adj Close</th>\n",
       "      <th>Volume</th>\n",
       "    </tr>\n",
       "  </thead>\n",
       "  <tbody>\n",
       "    <tr>\n",
       "      <th>0</th>\n",
       "      <td>2012-11-19</td>\n",
       "      <td>188.619995</td>\n",
       "      <td>190.389999</td>\n",
       "      <td>188.300003</td>\n",
       "      <td>190.350006</td>\n",
       "      <td>146.901138</td>\n",
       "      <td>3588900</td>\n",
       "    </tr>\n",
       "    <tr>\n",
       "      <th>1</th>\n",
       "      <td>2012-11-20</td>\n",
       "      <td>189.880005</td>\n",
       "      <td>190.110001</td>\n",
       "      <td>188.250000</td>\n",
       "      <td>189.199997</td>\n",
       "      <td>146.013641</td>\n",
       "      <td>3170200</td>\n",
       "    </tr>\n",
       "    <tr>\n",
       "      <th>2</th>\n",
       "      <td>2012-11-21</td>\n",
       "      <td>189.300003</td>\n",
       "      <td>190.889999</td>\n",
       "      <td>188.949997</td>\n",
       "      <td>190.289993</td>\n",
       "      <td>146.854813</td>\n",
       "      <td>5189600</td>\n",
       "    </tr>\n",
       "    <tr>\n",
       "      <th>3</th>\n",
       "      <td>2012-11-23</td>\n",
       "      <td>191.000000</td>\n",
       "      <td>193.490005</td>\n",
       "      <td>190.800003</td>\n",
       "      <td>193.490005</td>\n",
       "      <td>149.324402</td>\n",
       "      <td>3877600</td>\n",
       "    </tr>\n",
       "    <tr>\n",
       "      <th>4</th>\n",
       "      <td>2012-11-26</td>\n",
       "      <td>192.449997</td>\n",
       "      <td>193.369995</td>\n",
       "      <td>191.770004</td>\n",
       "      <td>192.880005</td>\n",
       "      <td>148.853668</td>\n",
       "      <td>5210300</td>\n",
       "    </tr>\n",
       "  </tbody>\n",
       "</table>\n",
       "</div>"
      ],
      "text/plain": [
       "         Date        Open        High         Low       Close   Adj Close  \\\n",
       "0  2012-11-19  188.619995  190.389999  188.300003  190.350006  146.901138   \n",
       "1  2012-11-20  189.880005  190.110001  188.250000  189.199997  146.013641   \n",
       "2  2012-11-21  189.300003  190.889999  188.949997  190.289993  146.854813   \n",
       "3  2012-11-23  191.000000  193.490005  190.800003  193.490005  149.324402   \n",
       "4  2012-11-26  192.449997  193.369995  191.770004  192.880005  148.853668   \n",
       "\n",
       "    Volume  \n",
       "0  3588900  \n",
       "1  3170200  \n",
       "2  5189600  \n",
       "3  3877600  \n",
       "4  5210300  "
      ]
     },
     "execution_count": 10,
     "metadata": {},
     "output_type": "execute_result"
    }
   ],
   "source": [
    "df.head()"
   ]
  },
  {
   "cell_type": "code",
   "execution_count": 11,
   "metadata": {},
   "outputs": [],
   "source": [
    "df.Open/=df['Close']/df['Adj Close']\n",
    "df.High/=df['Close']/df['Adj Close']\n",
    "df.Low/=df['Close']/df['Adj Close']\n",
    "df.Close/=df['Close']/df['Adj Close']\n"
   ]
  },
  {
   "cell_type": "code",
   "execution_count": 12,
   "metadata": {},
   "outputs": [],
   "source": [
    "df = df.rename(columns={'Open':'open','High':'high','Low':'low','Close':'close','Volume': 'volume'})"
   ]
  },
  {
   "cell_type": "code",
   "execution_count": 13,
   "metadata": {},
   "outputs": [
    {
     "data": {
      "text/plain": [
       "<matplotlib.axes._subplots.AxesSubplot at 0x2319f9cdfc8>"
      ]
     },
     "execution_count": 13,
     "metadata": {},
     "output_type": "execute_result"
    },
    {
     "data": {
      "image/png": "[encoded data removed]",
      "text/plain": [
       "<Figure size 432x288 with 1 Axes>"
      ]
     },
     "metadata": {
      "needs_background": "light"
     },
     "output_type": "display_data"
    }
   ],
   "source": [
    "df.close.plot()\n"
   ]
  },
  {
   "cell_type": "code",
   "execution_count": 14,
   "metadata": {},
   "outputs": [
    {
     "data": {
      "text/html": [
       "<div>\n",
       "<style scoped>\n",
       "    .dataframe tbody tr th:only-of-type {\n",
       "        vertical-align: middle;\n",
       "    }\n",
       "\n",
       "    .dataframe tbody tr th {\n",
       "        vertical-align: top;\n",
       "    }\n",
       "\n",
       "    .dataframe thead th {\n",
       "        text-align: right;\n",
       "    }\n",
       "</style>\n",
       "<table border=\"1\" class=\"dataframe\">\n",
       "  <thead>\n",
       "    <tr style=\"text-align: right;\">\n",
       "      <th></th>\n",
       "      <th>Date</th>\n",
       "      <th>open</th>\n",
       "      <th>high</th>\n",
       "      <th>low</th>\n",
       "      <th>close</th>\n",
       "      <th>Adj Close</th>\n",
       "      <th>volume</th>\n",
       "    </tr>\n",
       "  </thead>\n",
       "  <tbody>\n",
       "    <tr>\n",
       "      <th>0</th>\n",
       "      <td>2012-11-19</td>\n",
       "      <td>145.566015</td>\n",
       "      <td>146.932002</td>\n",
       "      <td>145.319064</td>\n",
       "      <td>146.901138</td>\n",
       "      <td>146.901138</td>\n",
       "      <td>3588900</td>\n",
       "    </tr>\n",
       "    <tr>\n",
       "      <th>1</th>\n",
       "      <td>2012-11-20</td>\n",
       "      <td>146.538432</td>\n",
       "      <td>146.715930</td>\n",
       "      <td>145.280488</td>\n",
       "      <td>146.013641</td>\n",
       "      <td>146.013641</td>\n",
       "      <td>3170200</td>\n",
       "    </tr>\n",
       "    <tr>\n",
       "      <th>2</th>\n",
       "      <td>2012-11-21</td>\n",
       "      <td>146.090796</td>\n",
       "      <td>147.317863</td>\n",
       "      <td>145.820682</td>\n",
       "      <td>146.854813</td>\n",
       "      <td>146.854813</td>\n",
       "      <td>5189600</td>\n",
       "    </tr>\n",
       "    <tr>\n",
       "      <th>3</th>\n",
       "      <td>2012-11-23</td>\n",
       "      <td>147.402760</td>\n",
       "      <td>149.324402</td>\n",
       "      <td>147.248414</td>\n",
       "      <td>149.324402</td>\n",
       "      <td>149.324402</td>\n",
       "      <td>3877600</td>\n",
       "    </tr>\n",
       "    <tr>\n",
       "      <th>4</th>\n",
       "      <td>2012-11-26</td>\n",
       "      <td>148.521813</td>\n",
       "      <td>149.231814</td>\n",
       "      <td>147.997033</td>\n",
       "      <td>148.853668</td>\n",
       "      <td>148.853668</td>\n",
       "      <td>5210300</td>\n",
       "    </tr>\n",
       "    <tr>\n",
       "      <th>...</th>\n",
       "      <td>...</td>\n",
       "      <td>...</td>\n",
       "      <td>...</td>\n",
       "      <td>...</td>\n",
       "      <td>...</td>\n",
       "      <td>...</td>\n",
       "      <td>...</td>\n",
       "    </tr>\n",
       "    <tr>\n",
       "      <th>1758</th>\n",
       "      <td>2019-11-13</td>\n",
       "      <td>135.389999</td>\n",
       "      <td>135.580002</td>\n",
       "      <td>133.850006</td>\n",
       "      <td>134.479996</td>\n",
       "      <td>134.479996</td>\n",
       "      <td>2918400</td>\n",
       "    </tr>\n",
       "    <tr>\n",
       "      <th>1759</th>\n",
       "      <td>2019-11-14</td>\n",
       "      <td>134.130005</td>\n",
       "      <td>134.330002</td>\n",
       "      <td>133.330002</td>\n",
       "      <td>134.000000</td>\n",
       "      <td>134.000000</td>\n",
       "      <td>4231300</td>\n",
       "    </tr>\n",
       "    <tr>\n",
       "      <th>1760</th>\n",
       "      <td>2019-11-15</td>\n",
       "      <td>134.389999</td>\n",
       "      <td>135.119995</td>\n",
       "      <td>134.029999</td>\n",
       "      <td>134.399994</td>\n",
       "      <td>134.399994</td>\n",
       "      <td>3262500</td>\n",
       "    </tr>\n",
       "    <tr>\n",
       "      <th>1761</th>\n",
       "      <td>2019-11-18</td>\n",
       "      <td>134.300003</td>\n",
       "      <td>134.479996</td>\n",
       "      <td>133.229996</td>\n",
       "      <td>134.309998</td>\n",
       "      <td>134.309998</td>\n",
       "      <td>3210400</td>\n",
       "    </tr>\n",
       "    <tr>\n",
       "      <th>1762</th>\n",
       "      <td>2019-11-19</td>\n",
       "      <td>134.880005</td>\n",
       "      <td>135.380005</td>\n",
       "      <td>134.460007</td>\n",
       "      <td>134.520004</td>\n",
       "      <td>134.520004</td>\n",
       "      <td>2995000</td>\n",
       "    </tr>\n",
       "  </tbody>\n",
       "</table>\n",
       "<p>1763 rows × 7 columns</p>\n",
       "</div>"
      ],
      "text/plain": [
       "            Date        open        high         low       close   Adj Close  \\\n",
       "0     2012-11-19  145.566015  146.932002  145.319064  146.901138  146.901138   \n",
       "1     2012-11-20  146.538432  146.715930  145.280488  146.013641  146.013641   \n",
       "2     2012-11-21  146.090796  147.317863  145.820682  146.854813  146.854813   \n",
       "3     2012-11-23  147.402760  149.324402  147.248414  149.324402  149.324402   \n",
       "4     2012-11-26  148.521813  149.231814  147.997033  148.853668  148.853668   \n",
       "...          ...         ...         ...         ...         ...         ...   \n",
       "1758  2019-11-13  135.389999  135.580002  133.850006  134.479996  134.479996   \n",
       "1759  2019-11-14  134.130005  134.330002  133.330002  134.000000  134.000000   \n",
       "1760  2019-11-15  134.389999  135.119995  134.029999  134.399994  134.399994   \n",
       "1761  2019-11-18  134.300003  134.479996  133.229996  134.309998  134.309998   \n",
       "1762  2019-11-19  134.880005  135.380005  134.460007  134.520004  134.520004   \n",
       "\n",
       "       volume  \n",
       "0     3588900  \n",
       "1     3170200  \n",
       "2     5189600  \n",
       "3     3877600  \n",
       "4     5210300  \n",
       "...       ...  \n",
       "1758  2918400  \n",
       "1759  4231300  \n",
       "1760  3262500  \n",
       "1761  3210400  \n",
       "1762  2995000  \n",
       "\n",
       "[1763 rows x 7 columns]"
      ]
     },
     "execution_count": 14,
     "metadata": {},
     "output_type": "execute_result"
    }
   ],
   "source": [
    "df"
   ]
  },
  {
   "cell_type": "code",
   "execution_count": 15,
   "metadata": {},
   "outputs": [],
   "source": [
    "train_df=df[(df.Date<'2018-11-19')]\n",
    "test_df=df[(df.Date>'2018-11-19')&(df.Date<'2019-11-19')]\n",
    "train_df[['open','high','low','close','volume']].to_csv('IBM_1d_train.csv')\n",
    "test_df[['open','high','low','close','volume']].to_csv('IBM_1d_test.csv')"
   ]
  },
  {
   "cell_type": "code",
   "execution_count": 49,
   "metadata": {},
   "outputs": [],
   "source": [
    "test_df= test_df.reset_index(drop=True)"
   ]
  },
  {
   "cell_type": "code",
   "execution_count": 50,
   "metadata": {},
   "outputs": [
    {
     "data": {
      "text/plain": [
       "0      108.987953\n",
       "1      113.124352\n",
       "2      116.007591\n",
       "3      117.628220\n",
       "4      117.733185\n",
       "          ...    \n",
       "258    134.479996\n",
       "259    134.000000\n",
       "260    134.399994\n",
       "261    134.309998\n",
       "262    134.520004\n",
       "Name: close, Length: 263, dtype: float64"
      ]
     },
     "execution_count": 50,
     "metadata": {},
     "output_type": "execute_result"
    }
   ],
   "source": [
    "test_df.close"
   ]
  },
  {
   "cell_type": "code",
   "execution_count": 51,
   "metadata": {},
   "outputs": [
    {
     "data": {
      "text/plain": [
       "1.4388964155319295"
      ]
     },
     "execution_count": 51,
     "metadata": {},
     "output_type": "execute_result"
    }
   ],
   "source": [
    "150.39/104.5176"
   ]
  },
  {
   "cell_type": "code",
   "execution_count": 52,
   "metadata": {},
   "outputs": [
    {
     "data": {
      "text/plain": [
       "<matplotlib.axes._subplots.AxesSubplot at 0x25bfbfabc08>"
      ]
     },
     "execution_count": 52,
     "metadata": {},
     "output_type": "execute_result"
    },
    {
     "data": {
      "image/png": "[encoded data removed]",
      "text/plain": [
       "<Figure size 432x288 with 1 Axes>"
      ]
     },
     "metadata": {
      "needs_background": "light"
     },
     "output_type": "display_data"
    }
   ],
   "source": [
    "train_df.close.plot()"
   ]
  },
  {
   "cell_type": "code",
   "execution_count": 56,
   "metadata": {},
   "outputs": [
    {
     "name": "stdout",
     "output_type": "stream",
     "text": [
      "1.2342648916435743\n"
     ]
    },
    {
     "data": {
      "image/png": "[encoded data removed]",
      "text/plain": [
       "<Figure size 432x288 with 1 Axes>"
      ]
     },
     "metadata": {
      "needs_background": "light"
     },
     "output_type": "display_data"
    }
   ],
   "source": [
    "test_df.close.plot()\n",
    "print(test_df.close.iloc[-1]/test_df.close.iloc[0])"
   ]
  },
  {
   "cell_type": "code",
   "execution_count": 9,
   "metadata": {},
   "outputs": [],
   "source": [
    "\n",
    "import pandas as pd\n",
    "import numpy as np\n",
    "import datetime\n",
    "import matplotlib.pyplot as plt\n",
    "from features import FeatureExtractor"
   ]
  },
  {
   "cell_type": "code",
   "execution_count": 10,
   "metadata": {},
   "outputs": [],
   "source": [
    "input_file = 'coinbase_1h_train.csv'\n",
    "output_file = 'coinbase_1h_train_fe.csv'\n",
    "fe = FeatureExtractor(input_file, output_file)\n",
    "fe.extract()"
   ]
  },
  {
   "cell_type": "code",
   "execution_count": null,
   "metadata": {},
   "outputs": [],
   "source": []
  }
 ],
 "metadata": {
  "kernelspec": {
   "display_name": "Python 3",
   "language": "python",
   "name": "python3"
  },
  "language_info": {
   "codemirror_mode": {
    "name": "ipython",
    "version": 3
   },
   "file_extension": ".py",
   "mimetype": "text/x-python",
   "name": "python",
   "nbconvert_exporter": "python",
   "pygments_lexer": "ipython3",
   "version": "3.7.4"
  }
 },
 "nbformat": 4,
 "nbformat_minor": 2
}
